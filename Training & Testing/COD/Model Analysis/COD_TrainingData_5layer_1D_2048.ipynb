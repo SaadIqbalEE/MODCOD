{
 "cells": [
  {
   "cell_type": "code",
   "execution_count": 1,
   "id": "6b533e7f",
   "metadata": {},
   "outputs": [
    {
     "name": "stderr",
     "output_type": "stream",
     "text": [
      "2022-03-24 22:19:46.411371: W tensorflow/stream_executor/platform/default/dso_loader.cc:64] Could not load dynamic library 'libcudart.so.11.0'; dlerror: libcudart.so.11.0: cannot open shared object file: No such file or directory; LD_LIBRARY_PATH: /home/user12/Radio/lib/:\n",
      "2022-03-24 22:19:46.411402: I tensorflow/stream_executor/cuda/cudart_stub.cc:29] Ignore above cudart dlerror if you do not have a GPU set up on your machine.\n"
     ]
    },
    {
     "name": "stdout",
     "output_type": "stream",
     "text": [
      "2.7.0\n"
     ]
    }
   ],
   "source": [
    "import h5py\n",
    "import numpy as np\n",
    "import scipy\n",
    "import itertools\n",
    "from scipy.io import loadmat\n",
    "import matplotlib.pyplot as plt\n",
    "\n",
    "import sklearn\n",
    "from sklearn.metrics import confusion_matrix\n",
    "\n",
    "import pandas as pd\n",
    "import tensorflow as tf\n",
    "print(tf.__version__)\n",
    "\n",
    "from keras.models import Sequential\n",
    "from tensorflow.keras.layers import Reshape, Flatten, Dense, Conv1D ,Conv2D, MaxPooling2D, MaxPooling1D,Dropout\n",
    "from tensorflow.keras.models import Model\n",
    "from tensorflow.keras.optimizers import SGD, Adam, Adamax\n",
    "from tensorflow.keras.preprocessing.text import Tokenizer\n",
    "from tensorflow.keras.preprocessing.sequence import pad_sequences"
   ]
  },
  {
   "cell_type": "code",
   "execution_count": 2,
   "id": "d83866ac",
   "metadata": {},
   "outputs": [],
   "source": [
    "def evaluation_tf(report, y_test, y_pred, classes):\n",
    "    plt.plot(report.history['loss'], label = 'training_loss')\n",
    "    plt.plot(report.history['val_loss'], label = 'validation_loss')\n",
    "    plt.legend()\n",
    "    plt.show()\n",
    "    plt.plot(report.history['accuracy'], label = 'training_accuracy')\n",
    "    plt.plot(report.history['val_accuracy'], label = 'validation_accuracy')\n",
    "    plt.legend()\n",
    "    plt.show()\n",
    "    \n",
    "    cm = confusion_matrix(y_test, y_pred)\n",
    "    plt.figure(figsize=(6,6))\n",
    "    plt.imshow(cm, cmap=plt.cm.Blues)\n",
    "    print(cm.shape[0],cm.shape[1])\n",
    "    for i,j in itertools.product(range(cm.shape[0]), range(cm.shape[1])):\n",
    "        plt.text(j, i, format(cm[i,j], 'd'),\n",
    "                 horizontalalignment = 'center',\n",
    "                 color='black')\n",
    "\n",
    "    plt.xlabel(\"Predicted labels\")\n",
    "    plt.ylabel(\"True labels\")\n",
    "    tick_marks = np.arange(len(classes))\n",
    "    plt.xticks(tick_marks, classes, rotation=45)\n",
    "    plt.yticks(tick_marks, classes)\n",
    "    plt.title('Confusion matrix')\n",
    "    plt.colorbar()\n",
    "    plt.show()"
   ]
  },
  {
   "cell_type": "code",
   "execution_count": 3,
   "id": "bbe7b795",
   "metadata": {},
   "outputs": [
    {
     "name": "stdout",
     "output_type": "stream",
     "text": [
      "Model: \"sequential\"\n",
      "_________________________________________________________________\n",
      " Layer (type)                Output Shape              Param #   \n",
      "=================================================================\n",
      " conv1 (Conv1D)              (None, 2048, 32)          96        \n",
      "                                                                 \n",
      " conv2 (Conv1D)              (None, 2048, 48)          6192      \n",
      "                                                                 \n",
      " maxpool1 (MaxPooling1D)     (None, 1024, 48)          0         \n",
      "                                                                 \n",
      " conv3 (Conv1D)              (None, 1024, 64)          18496     \n",
      "                                                                 \n",
      " maxpool2 (MaxPooling1D)     (None, 512, 64)           0         \n",
      "                                                                 \n",
      " conv4 (Conv1D)              (None, 512, 96)           49248     \n",
      "                                                                 \n",
      " maxpool3 (MaxPooling1D)     (None, 256, 96)           0         \n",
      "                                                                 \n",
      " conv5 (Conv1D)              (None, 256, 128)          98432     \n",
      "                                                                 \n",
      " maxpool5 (MaxPooling1D)     (None, 128, 128)          0         \n",
      "                                                                 \n",
      " flatten (Flatten)           (None, 16384)             0         \n",
      "                                                                 \n",
      " dense (Dense)               (None, 64)                1048640   \n",
      "                                                                 \n",
      " dropout (Dropout)           (None, 64)                0         \n",
      "                                                                 \n",
      " dense_1 (Dense)             (None, 6)                 390       \n",
      "                                                                 \n",
      "=================================================================\n",
      "Total params: 1,221,494\n",
      "Trainable params: 1,221,494\n",
      "Non-trainable params: 0\n",
      "_________________________________________________________________\n"
     ]
    },
    {
     "name": "stderr",
     "output_type": "stream",
     "text": [
      "2022-03-24 22:20:38.635041: W tensorflow/stream_executor/platform/default/dso_loader.cc:64] Could not load dynamic library 'libcuda.so.1'; dlerror: libcuda.so.1: cannot open shared object file: No such file or directory; LD_LIBRARY_PATH: /home/user12/Radio/lib/:\n",
      "2022-03-24 22:20:38.635107: W tensorflow/stream_executor/cuda/cuda_driver.cc:269] failed call to cuInit: UNKNOWN ERROR (303)\n",
      "2022-03-24 22:20:38.635148: I tensorflow/stream_executor/cuda/cuda_diagnostics.cc:156] kernel driver does not appear to be running on this host (ipt-Precision-7920-Tower): /proc/driver/nvidia/version does not exist\n",
      "2022-03-24 22:20:38.635533: I tensorflow/core/platform/cpu_feature_guard.cc:151] This TensorFlow binary is optimized with oneAPI Deep Neural Network Library (oneDNN) to use the following CPU instructions in performance-critical operations:  AVX2 AVX512F FMA\n",
      "To enable them in other operations, rebuild TensorFlow with the appropriate compiler flags.\n"
     ]
    }
   ],
   "source": [
    "#Now we can go ahead and create our Convolution model\n",
    "model = Sequential()\n",
    "\n",
    "#We want to output 32 features maps. The kernel size is going to be\n",
    "#2x4 and we specify our input shape to be 256,4 \n",
    "#Padding=same means we want the same dimensional output as input\n",
    "#activation specifies the activation function\n",
    "model.add(Conv1D(32, 2, input_shape=(2048, 1), padding='same',\n",
    "                       activation='relu', name=\"conv1\"))\n",
    "\n",
    "# Size --> (256,32)\n",
    "#now we add another convolution layer, again with a 4x4 kernel\n",
    "#This time our padding=valid this means that the output dimension can\n",
    "#take any form\n",
    "model.add(Conv1D(48, 4, activation='relu', padding='same', name=\"conv2\"))\n",
    "\n",
    "# Size --> (256,64)\n",
    "#maxpool with a kernet of 2x2\n",
    "model.add(MaxPooling1D(pool_size=2, name=\"maxpool1\"))\n",
    "\n",
    "# Size --> (128,64)\n",
    "#now we add another convolution layer, again with a 8 kernel\n",
    "#This time our padding=valid this means that the output dimension can\n",
    "#take any form\n",
    "model.add(Conv1D(64, 6, activation='relu', padding='same', name=\"conv3\"))\n",
    "\n",
    "# Size --> (128,128,1)\n",
    "#maxpool with a kernet of 2x2\n",
    "model.add(MaxPooling1D(pool_size=2, name=\"maxpool2\"))\n",
    "\n",
    "# Size --> (32,8,64)\n",
    "\n",
    "model.add(Conv1D(96, 8, activation='relu', padding='same', name=\"conv4\"))\n",
    "\n",
    "model.add(MaxPooling1D(pool_size=2, name=\"maxpool3\"))\n",
    "\n",
    "\n",
    "model.add(Conv1D(128, 8, activation='relu', padding='same', name=\"conv5\"))\n",
    "\n",
    "model.add(MaxPooling1D(pool_size=2, name=\"maxpool5\"))\n",
    "\n",
    "#In a convolution NN, we neet to flatten our data before we can\n",
    "#input it into the ouput/dense layer\n",
    "model.add(Flatten())\n",
    "\n",
    "#Dense layer with 1024 hidden units\n",
    "model.add(Dense(64, activation='relu'))\n",
    "\n",
    "#this time we set 25% of the nodes to 0 to minimize overfitting\n",
    "model.add(Dropout(0.25))\n",
    "#Finally the output dense layer with 10 hidden units corresponding to\n",
    "#our 6 classes\n",
    "model.add(Dense(6, activation='softmax'))\n",
    "\n",
    "model.summary()"
   ]
  },
  {
   "cell_type": "code",
   "execution_count": 4,
   "id": "ca864e4c",
   "metadata": {},
   "outputs": [],
   "source": [
    "model.compile(\n",
    "    optimizer='adam',\n",
    "    loss='sparse_categorical_crossentropy',\n",
    "    metrics=['accuracy'])"
   ]
  },
  {
   "cell_type": "code",
   "execution_count": 5,
   "id": "6203ae0f",
   "metadata": {},
   "outputs": [
    {
     "name": "stdout",
     "output_type": "stream",
     "text": [
      "['data', 'label']\n"
     ]
    }
   ],
   "source": [
    "filename0 = \"/home/user12/Documents/MODCOD_Dir/COD_TrainingData.hdf5\"\n",
    "\n",
    "f0 = h5py.File(filename0, 'r')\n",
    "a_group_key0 = list(f0.keys())\n",
    "print (a_group_key0)\n"
   ]
  },
  {
   "cell_type": "code",
   "execution_count": 6,
   "id": "a2538581",
   "metadata": {},
   "outputs": [
    {
     "name": "stdout",
     "output_type": "stream",
     "text": [
      "(300000, 2048)\n",
      "(300000,)\n"
     ]
    }
   ],
   "source": [
    "data  = np.array(f0[a_group_key0[0]])\n",
    "label = np.array(f0[a_group_key0[1]])\n",
    "\n",
    "print(data.shape)\n",
    "print(label.shape)"
   ]
  },
  {
   "cell_type": "code",
   "execution_count": null,
   "id": "36ebfc77",
   "metadata": {},
   "outputs": [],
   "source": [
    "#data = f[a_group_key[0]]              #(600000, 256, 4)\n",
    "#datatype = f[a_group_key[1]]          #(600000, 1)\n",
    "#SNR = f[a_group_key[2]]               #(600000, 1)\n",
    "\n",
    "\n",
    "#print(data.shape)\n",
    "#print(datatype.shape)\n",
    "#print(SNR.shape)\n",
    "\n",
    "# Six different Modulation each with 100000 in length\n",
    "# SNR... 10 bins for each modulation\n",
    "\n",
    "# Result should be list of pair--- (16 symbols packet--- 256, Modulation Scheme (0...5))\n",
    "\n",
    "# Write into pre-processed training data!"
   ]
  },
  {
   "cell_type": "code",
   "execution_count": 7,
   "id": "3ce0f64f",
   "metadata": {},
   "outputs": [],
   "source": [
    "from sklearn.model_selection import train_test_split\n",
    "X_train, X_test, y_train, y_test = train_test_split(data, label, test_size = 0.2)"
   ]
  },
  {
   "cell_type": "code",
   "execution_count": 8,
   "id": "ee6b180a",
   "metadata": {},
   "outputs": [
    {
     "name": "stdout",
     "output_type": "stream",
     "text": [
      "(240000, 2048)\n",
      "(60000, 2048)\n",
      "(240000,)\n",
      "(60000,)\n"
     ]
    }
   ],
   "source": [
    "print(X_train.shape)\n",
    "print(X_test.shape)\n",
    "print(y_train.shape)\n",
    "print(y_test.shape)\n",
    "                \n",
    "                "
   ]
  },
  {
   "cell_type": "code",
   "execution_count": 10,
   "id": "38c198c3",
   "metadata": {},
   "outputs": [
    {
     "name": "stderr",
     "output_type": "stream",
     "text": [
      "2022-03-24 22:31:45.077718: W tensorflow/core/framework/cpu_allocator_impl.cc:82] Allocation of 1966080000 exceeds 10% of free system memory.\n"
     ]
    },
    {
     "name": "stdout",
     "output_type": "stream",
     "text": [
      "Epoch 1/10\n",
      "7500/7500 [==============================] - 620s 83ms/step - loss: 0.3387 - accuracy: 0.7770 - val_loss: 0.0149 - val_accuracy: 0.9966\n",
      "Epoch 2/10\n",
      "7500/7500 [==============================] - 565s 75ms/step - loss: 0.0208 - accuracy: 0.9954 - val_loss: 0.0147 - val_accuracy: 0.9972\n",
      "Epoch 3/10\n",
      "7500/7500 [==============================] - 554s 74ms/step - loss: 0.0144 - accuracy: 0.9968 - val_loss: 0.0119 - val_accuracy: 0.9977\n",
      "Epoch 4/10\n",
      "7500/7500 [==============================] - 555s 74ms/step - loss: 0.0107 - accuracy: 0.9975 - val_loss: 0.0042 - val_accuracy: 0.9990\n",
      "Epoch 5/10\n",
      "7500/7500 [==============================] - 554s 74ms/step - loss: 0.0076 - accuracy: 0.9982 - val_loss: 0.0089 - val_accuracy: 0.9982\n",
      "Epoch 6/10\n",
      "7500/7500 [==============================] - 547s 73ms/step - loss: 0.0061 - accuracy: 0.9986 - val_loss: 0.0019 - val_accuracy: 0.9995\n",
      "Epoch 7/10\n",
      "7500/7500 [==============================] - 541s 72ms/step - loss: 0.0055 - accuracy: 0.9987 - val_loss: 0.0025 - val_accuracy: 0.9995\n",
      "Epoch 8/10\n",
      "7500/7500 [==============================] - 551s 73ms/step - loss: 0.0052 - accuracy: 0.9988 - val_loss: 0.0015 - val_accuracy: 0.9997\n",
      "Epoch 9/10\n",
      "7500/7500 [==============================] - 549s 73ms/step - loss: 0.0040 - accuracy: 0.9990 - val_loss: 0.0019 - val_accuracy: 0.9996\n",
      "Epoch 10/10\n",
      "7500/7500 [==============================] - 549s 73ms/step - loss: 0.0037 - accuracy: 0.9991 - val_loss: 0.0028 - val_accuracy: 0.9992\n"
     ]
    }
   ],
   "source": [
    "report = model.fit(X_train, y_train, epochs = 10, validation_data=(X_test, y_test))"
   ]
  },
  {
   "cell_type": "code",
   "execution_count": 11,
   "id": "2c4bf03b",
   "metadata": {},
   "outputs": [],
   "source": [
    "model.save('COD_2048.h5')"
   ]
  },
  {
   "cell_type": "code",
   "execution_count": 12,
   "id": "19f48080",
   "metadata": {},
   "outputs": [],
   "source": [
    "y_pred = model.predict(X_test).argmax(axis = 1)"
   ]
  },
  {
   "cell_type": "code",
   "execution_count": 13,
   "id": "ce655879",
   "metadata": {},
   "outputs": [
    {
     "data": {
      "image/png": "[encoded data removed]",
      "text/plain": [
       "<Figure size 432x288 with 1 Axes>"
      ]
     },
     "metadata": {
      "needs_background": "light"
     },
     "output_type": "display_data"
    },
    {
     "data": {
      "image/png": "[encoded data removed]",
      "text/plain": [
       "<Figure size 432x288 with 1 Axes>"
      ]
     },
     "metadata": {
      "needs_background": "light"
     },
     "output_type": "display_data"
    },
    {
     "name": "stdout",
     "output_type": "stream",
     "text": [
      "3 3\n"
     ]
    },
    {
     "data": {
      "image/png": "[encoded data removed]",
      "text/plain": [
       "<Figure size 432x432 with 2 Axes>"
      ]
     },
     "metadata": {
      "needs_background": "light"
     },
     "output_type": "display_data"
    }
   ],
   "source": [
    "# 0--LDPC , 1--TURBO , 2--Polar\n",
    "Y = ['LDPC','TURBO','Polar']\n",
    "evaluation_tf(report, y_test, y_pred, Y)"
   ]
  }
 ],
 "metadata": {
  "kernelspec": {
   "display_name": "Python 3 (ipykernel)",
   "language": "python",
   "name": "python3"
  },
  "language_info": {
   "codemirror_mode": {
    "name": "ipython",
    "version": 3
   },
   "file_extension": ".py",
   "mimetype": "text/x-python",
   "name": "python",
   "nbconvert_exporter": "python",
   "pygments_lexer": "ipython3",
   "version": "3.8.10"
  }
 },
 "nbformat": 4,
 "nbformat_minor": 5
}
