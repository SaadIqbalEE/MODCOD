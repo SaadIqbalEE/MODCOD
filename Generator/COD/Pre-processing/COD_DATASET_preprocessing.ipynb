{
 "cells": [
  {
   "cell_type": "code",
   "execution_count": 1,
   "id": "1921b042",
   "metadata": {},
   "outputs": [],
   "source": [
    "import h5py\n",
    "import numpy as np\n",
    "import scipy\n",
    "import itertools\n",
    "from scipy.io import loadmat\n",
    "import matplotlib.pyplot as plt"
   ]
  },
  {
   "cell_type": "code",
   "execution_count": 2,
   "id": "bb9899ce",
   "metadata": {},
   "outputs": [
    {
     "name": "stdout",
     "output_type": "stream",
     "text": [
      "['/home/user12/Saad_External/MODCOD_DataSet/COD_DATASET/LDPC_DATASET.h5', '/home/user12/Saad_External/MODCOD_DataSet/COD_DATASET/TURBO_DATASET.h5', '/home/user12/Saad_External/MODCOD_DataSet/COD_DATASET/POLAR_DATASET.h5']\n"
     ]
    }
   ],
   "source": [
    "filename = []\n",
    "filename.append(\"/home/user12/Saad_External/MODCOD_DataSet/COD_DATASET/LDPC_DATASET.h5\")\n",
    "filename.append(\"/home/user12/Saad_External/MODCOD_DataSet/COD_DATASET/TURBO_DATASET.h5\")\n",
    "filename.append(\"/home/user12/Saad_External/MODCOD_DataSet/COD_DATASET/POLAR_DATASET.h5\")\n",
    "print (filename)"
   ]
  },
  {
   "cell_type": "code",
   "execution_count": 3,
   "id": "e64aad30",
   "metadata": {},
   "outputs": [
    {
     "name": "stdout",
     "output_type": "stream",
     "text": [
      "DATA (10000, 129600)\n",
      "DATA (10000, 154800)\n",
      "DATA (10000, 102400)\n"
     ]
    }
   ],
   "source": [
    "for i in filename:\n",
    "    f = h5py.File(i, 'r')\n",
    "    a_group_key = list(f.keys())\n",
    "    data = f[a_group_key[-1]]            \n",
    "    #coderate = f[a_group_key[0]]        \n",
    "\n",
    "    print(a_group_key[-1], data.shape)"
   ]
  },
  {
   "cell_type": "code",
   "execution_count": 4,
   "id": "16232a67",
   "metadata": {},
   "outputs": [],
   "source": [
    "#LDPC  25000  cluster of 4 different code rate i.e. 1/2, 2/3, 3/4, 5/6 codes with block length 1296\n",
    "#polar 100000 cluster of 1/2 CODERATE with block length 1548\n",
    "#TURBO 100000 cluster of 1/3 CODERATE with block length 1024\n",
    "\n",
    "#Extracting (2048,100000) block from each Coding scheme\n"
   ]
  },
  {
   "cell_type": "code",
   "execution_count": 5,
   "id": "3c65a869",
   "metadata": {},
   "outputs": [
    {
     "name": "stdout",
     "output_type": "stream",
     "text": [
      "DATA (10000, 129600)\n"
     ]
    }
   ],
   "source": [
    "#LDPC\n",
    "\n",
    "f = h5py.File(filename[0], 'r')\n",
    "a_group_key = list(f.keys())\n",
    "LDPC_data = f[a_group_key[-1]]            \n",
    "#coderate = f[a_group_key[0]]        \n",
    "\n",
    "print(a_group_key[-1], LDPC_data.shape)"
   ]
  },
  {
   "cell_type": "code",
   "execution_count": 6,
   "id": "e12e4eba",
   "metadata": {},
   "outputs": [],
   "source": [
    "dataset = []\n",
    "label = []\n",
    "\n",
    "i = 0\n",
    "while i in range(500):\n",
    "    pointer = 0\n",
    "    while pointer in range(LDPC_data.shape[1]):\n",
    "        dataset.append(LDPC_data[i, pointer: pointer+2048])\n",
    "        label.append(0)\n",
    "        pointer += 2592\n",
    "    i = i+1\n",
    "\n",
    "i = 2500        \n",
    "while i in range(3000):\n",
    "    pointer = 0\n",
    "    while pointer in range(LDPC_data.shape[1]):\n",
    "        dataset.append(LDPC_data[i, pointer: pointer+2048])\n",
    "        label.append(0)\n",
    "        pointer += 2592\n",
    "    i = i+1\n",
    "        \n",
    "i = 5000        \n",
    "while i in range(5500):\n",
    "    pointer = 0\n",
    "    while pointer in range(LDPC_data.shape[1]):\n",
    "        dataset.append(LDPC_data[i, pointer: pointer+2048])\n",
    "        label.append(0)\n",
    "        pointer += 2592\n",
    "    i = i+1\n",
    "        \n",
    "i = 7500        \n",
    "while i in range(8000):\n",
    "    pointer = 0\n",
    "    while pointer in range(LDPC_data.shape[1]):\n",
    "        dataset.append(LDPC_data[i, pointer: pointer+2048])\n",
    "        label.append(0)\n",
    "        pointer += 2592\n",
    "    i = i+1\n"
   ]
  },
  {
   "cell_type": "code",
   "execution_count": 9,
   "id": "bdd9720f",
   "metadata": {},
   "outputs": [
    {
     "name": "stdout",
     "output_type": "stream",
     "text": [
      "<class 'list'> 100000\n"
     ]
    },
    {
     "data": {
      "image/png": "[encoded data removed]",
      "text/plain": [
       "<Figure size 432x288 with 1 Axes>"
      ]
     },
     "metadata": {
      "needs_background": "light"
     },
     "output_type": "display_data"
    }
   ],
   "source": [
    "print (type(dataset), len(dataset))\n",
    "plt.plot(label)\n",
    "plt.show()"
   ]
  },
  {
   "cell_type": "code",
   "execution_count": 10,
   "id": "2fff9030",
   "metadata": {},
   "outputs": [
    {
     "name": "stdout",
     "output_type": "stream",
     "text": [
      "DATA (10000, 154800)\n"
     ]
    }
   ],
   "source": [
    "#Single array size = 154800\n",
    "#Block length -->2048\n",
    "\n",
    "#Turbo\n",
    "\n",
    "f = h5py.File(filename[1], 'r')\n",
    "a_group_key = list(f.keys())\n",
    "Turbo_data = f[a_group_key[-1]]            \n",
    "#coderate = f[a_group_key[0]]        \n",
    "\n",
    "print(a_group_key[-1], Turbo_data.shape)\n"
   ]
  },
  {
   "cell_type": "code",
   "execution_count": 11,
   "id": "d2f39b83",
   "metadata": {},
   "outputs": [],
   "source": [
    "i = 0\n",
    "while i in range(2000):\n",
    "    pointer = 0\n",
    "    while pointer in range(Turbo_data.shape[1]):\n",
    "        dataset.append(Turbo_data[i, pointer: pointer+2048])\n",
    "        label.append(1)\n",
    "        pointer += 3096\n",
    "    i = i+1\n"
   ]
  },
  {
   "cell_type": "code",
   "execution_count": 12,
   "id": "2000cfe4",
   "metadata": {},
   "outputs": [
    {
     "name": "stdout",
     "output_type": "stream",
     "text": [
      "<class 'list'> 200000\n"
     ]
    },
    {
     "data": {
      "image/png": "[encoded data removed]",
      "text/plain": [
       "<Figure size 432x288 with 1 Axes>"
      ]
     },
     "metadata": {
      "needs_background": "light"
     },
     "output_type": "display_data"
    }
   ],
   "source": [
    "print (type(dataset), len(dataset))\n",
    "plt.plot(label)\n",
    "plt.show()"
   ]
  },
  {
   "cell_type": "code",
   "execution_count": 13,
   "id": "94533810",
   "metadata": {},
   "outputs": [
    {
     "name": "stdout",
     "output_type": "stream",
     "text": [
      "DATA (10000, 102400)\n"
     ]
    }
   ],
   "source": [
    "#polar\n",
    "\n",
    "f = h5py.File(filename[2], 'r')\n",
    "a_group_key = list(f.keys())\n",
    "polar_data = f[a_group_key[-1]]            \n",
    "#coderate = f[a_group_key[0]]        \n",
    "\n",
    "print(a_group_key[-1], polar_data.shape)"
   ]
  },
  {
   "cell_type": "code",
   "execution_count": 14,
   "id": "de5252c5",
   "metadata": {},
   "outputs": [],
   "source": [
    "i = 0\n",
    "while i in range(2000):\n",
    "    pointer = 0\n",
    "    while pointer in range(polar_data.shape[1]):\n",
    "        dataset.append(polar_data[i, pointer: pointer+2048])\n",
    "        label.append(2)\n",
    "        pointer += 2048\n",
    "    i = i+1"
   ]
  },
  {
   "cell_type": "code",
   "execution_count": 15,
   "id": "c4ebda2a",
   "metadata": {},
   "outputs": [
    {
     "name": "stdout",
     "output_type": "stream",
     "text": [
      "<class 'list'> 300000\n"
     ]
    },
    {
     "data": {
      "image/png": "[encoded data removed]",
      "text/plain": [
       "<Figure size 432x288 with 1 Axes>"
      ]
     },
     "metadata": {
      "needs_background": "light"
     },
     "output_type": "display_data"
    }
   ],
   "source": [
    "print (type(dataset), len(dataset))\n",
    "plt.plot(label)\n",
    "plt.show()"
   ]
  },
  {
   "cell_type": "code",
   "execution_count": 16,
   "id": "1f0bacfd",
   "metadata": {},
   "outputs": [],
   "source": [
    "f = h5py.File(\"COD_TrainingData.hdf5\", \"w\")\n",
    "f.create_dataset(\"data\", data=dataset)\n",
    "f.create_dataset(\"label\", data=label)\n",
    "f.close()"
   ]
  }
 ],
 "metadata": {
  "kernelspec": {
   "display_name": "Python 3 (ipykernel)",
   "language": "python",
   "name": "python3"
  },
  "language_info": {
   "codemirror_mode": {
    "name": "ipython",
    "version": 3
   },
   "file_extension": ".py",
   "mimetype": "text/x-python",
   "name": "python",
   "nbconvert_exporter": "python",
   "pygments_lexer": "ipython3",
   "version": "3.8.10"
  }
 },
 "nbformat": 4,
 "nbformat_minor": 5
}
